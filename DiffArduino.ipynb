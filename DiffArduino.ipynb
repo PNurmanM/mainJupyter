{
 "cells": [
  {
   "cell_type": "code",
   "execution_count": 15,
   "id": "d8b6ea1b-35e9-4396-aa75-1e7c410aa787",
   "metadata": {},
   "outputs": [],
   "source": [
    "import pyfirmata2"
   ]
  },
  {
   "cell_type": "code",
   "execution_count": 47,
   "id": "49dccd46-ff2c-45db-a3a1-82e0184a0196",
   "metadata": {},
   "outputs": [],
   "source": [
    "board = pyfirmata2.Arduino('COM3')"
   ]
  },
  {
   "cell_type": "code",
   "execution_count": 48,
   "id": "c3edb5ca-64f0-4d39-ae7d-79c2649861cc",
   "metadata": {},
   "outputs": [],
   "source": [
    "servo1 = board.get_pin('d:9:s')"
   ]
  },
  {
   "cell_type": "code",
   "execution_count": 51,
   "id": "4db3666c-6596-4c9a-87db-298b53b05a97",
   "metadata": {},
   "outputs": [],
   "source": [
    "servo1.write(90)"
   ]
  },
  {
   "cell_type": "code",
   "execution_count": 53,
   "id": "58d4dd2a-5177-4c0d-9abf-bef1aafba16c",
   "metadata": {},
   "outputs": [],
   "source": [
    "board.exit()"
   ]
  },
  {
   "cell_type": "code",
   "execution_count": null,
   "id": "55e5e000-305a-40c1-8937-0fa3d9aa5fef",
   "metadata": {},
   "outputs": [],
   "source": []
  }
 ],
 "metadata": {
  "kernelspec": {
   "display_name": "Python 3 (ipykernel)",
   "language": "python",
   "name": "python3"
  },
  "language_info": {
   "codemirror_mode": {
    "name": "ipython",
    "version": 3
   },
   "file_extension": ".py",
   "mimetype": "text/x-python",
   "name": "python",
   "nbconvert_exporter": "python",
   "pygments_lexer": "ipython3",
   "version": "3.11.5"
  }
 },
 "nbformat": 4,
 "nbformat_minor": 5
}
